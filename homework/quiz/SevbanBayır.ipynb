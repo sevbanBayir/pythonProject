{
 "cells": [
  {
   "cell_type": "code",
   "id": "initial_id",
   "metadata": {
    "collapsed": true,
    "ExecuteTime": {
     "end_time": "2024-11-08T08:01:53.164892Z",
     "start_time": "2024-11-08T08:01:53.162255Z"
    }
   },
   "source": [
    "from pathlib import Path\n",
    "\n",
    "text = Path('question 1 text.txt').read_text()"
   ],
   "outputs": [],
   "execution_count": 2
  },
  {
   "metadata": {
    "ExecuteTime": {
     "end_time": "2024-11-08T08:02:18.390971Z",
     "start_time": "2024-11-08T08:02:17.866528Z"
    }
   },
   "cell_type": "code",
   "source": "from textblob import TextBlob",
   "id": "dd747db0707ff1f2",
   "outputs": [],
   "execution_count": 3
  },
  {
   "metadata": {
    "ExecuteTime": {
     "end_time": "2024-11-08T08:03:29.815251Z",
     "start_time": "2024-11-08T08:03:29.812062Z"
    }
   },
   "cell_type": "code",
   "source": "blob = TextBlob(text)",
   "id": "cc2c104e7215d622",
   "outputs": [],
   "execution_count": 4
  },
  {
   "metadata": {
    "ExecuteTime": {
     "end_time": "2024-11-08T08:27:12.793093Z",
     "start_time": "2024-11-08T08:27:12.790359Z"
    }
   },
   "cell_type": "code",
   "source": [
    "frequencyOfSheWord = blob.word_counts.items().mapping.get(\"she\")\n",
    "print(\"Frequency of she word: \", frequencyOfSheWord)"
   ],
   "id": "3a8b617d964b8f3c",
   "outputs": [
    {
     "name": "stdout",
     "output_type": "stream",
     "text": [
      "Frequency of she word:  5\n"
     ]
    }
   ],
   "execution_count": 63
  },
  {
   "metadata": {
    "ExecuteTime": {
     "end_time": "2024-11-08T08:26:09.164506Z",
     "start_time": "2024-11-08T08:26:09.161829Z"
    }
   },
   "cell_type": "code",
   "source": [
    "print(f'{\"Polarity\":<10}{\"Subjectivity\":<15}{\"Sentence\":<100}')\n",
    "for blobSentence in blob.sentences:\n",
    "    sentence = blobSentence.raw\n",
    "    print(f'{blobSentence.polarity:<10.2f}{blobSentence.subjectivity:<15.2f}{sentence:<100}')"
   ],
   "id": "37abcd6acfe679f4",
   "outputs": [
    {
     "name": "stdout",
     "output_type": "stream",
     "text": [
      "Polarity  Subjectivity   Sentence                                                                                            \n",
      "0.70      0.60           Now she had got a start, and she went on and told me all about the good place.                      \n",
      "-0.05     0.40           She said all a body would have to do there was to go around all day long with a harp and sing, forever and ever.\n",
      "0.20      0.20           So I didn’t think much of it.                                                                       \n",
      "0.00      0.00           But I never said so.                                                                                \n",
      "0.10      0.45           I asked her if she reckoned Tom Sawyer would go there, and she said not by a considerable sight.    \n",
      "0.50      1.00           I was glad about that, because I wanted him and me to be together.                                  \n"
     ]
    }
   ],
   "execution_count": 62
  }
 ],
 "metadata": {
  "kernelspec": {
   "display_name": "Python 3",
   "language": "python",
   "name": "python3"
  },
  "language_info": {
   "codemirror_mode": {
    "name": "ipython",
    "version": 2
   },
   "file_extension": ".py",
   "mimetype": "text/x-python",
   "name": "python",
   "nbconvert_exporter": "python",
   "pygments_lexer": "ipython2",
   "version": "2.7.6"
  }
 },
 "nbformat": 4,
 "nbformat_minor": 5
}
