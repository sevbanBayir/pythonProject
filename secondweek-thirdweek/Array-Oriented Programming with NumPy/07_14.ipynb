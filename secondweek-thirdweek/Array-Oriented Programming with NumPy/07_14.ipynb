{
 "cells": [
  {
   "cell_type": "markdown",
   "metadata": {},
   "source": [
    "# 7.17 Intro to Data Science: `pandas` Series and `DataFrames`\n",
    "* NumPy’s `array` is optimized for homogeneous numeric data that’s accessed via integer indices\n",
    "* Big data applications must support mixed data types, customized indexing, missing data, data that’s not structured consistently and data that needs to be manipulated into forms appropriate for the databases and data analysis packages you use\n",
    "* **Pandas** is the most popular library for dealing with such data\n",
    "* Two key collections \n",
    "    * **`Series`** for one-dimensional collections \n",
    "    * **`DataFrames`** for two-dimensional collections\n",
    "* NumPy and pandas are intimately related\n",
    "    * `Series` and `DataFrame`s use `array`s “under the hood” \n",
    "    * `Series` and `DataFrame`s are valid arguments to many NumPy operations\n",
    "    * `array`s are valid arguments to many `Series` and `DataFrame` operations"
   ]
  }
 ],
 "metadata": {
  "kernelspec": {
   "display_name": "Python 3 (ipykernel)",
   "language": "python",
   "name": "python3"
  },
  "language_info": {
   "codemirror_mode": {
    "name": "ipython",
    "version": 3
   },
   "file_extension": ".py",
   "mimetype": "text/x-python",
   "name": "python",
   "nbconvert_exporter": "python",
   "pygments_lexer": "ipython3",
   "version": "3.9.13"
  }
 },
 "nbformat": 4,
 "nbformat_minor": 2
}
