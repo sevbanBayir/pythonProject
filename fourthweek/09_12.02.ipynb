{
 "cells": [
  {
   "cell_type": "markdown",
   "metadata": {},
   "source": [
    "## 9.12.2 Reading CSV Files into Pandas `DataFrames` \n",
    "* Here, we demonstrate pandas’ ability to load files in CSV format, then perform some basic data-analysis tasks"
   ]
  },
  {
   "cell_type": "markdown",
   "metadata": {},
   "source": [
    "### Datasets\n",
    "* Enormous variety of free datasets available online\n",
    "* **Rdatasets repository** provides links to over 1100 free datasets in comma-separated values (CSV) format\n",
    "> https://vincentarelbundock.github.io/Rdatasets/datasets.html\n",
    "* **`pydataset` module** specifically for accessing Rdatasets\n",
    "> https://github.com/iamaziz/PyDataset\n",
    "* Another large source of datasets is\n",
    "> https://github.com/awesomedata/awesome-public-datasets\n",
    "* A commonly used machine-learning dataset for beginners is the **Titanic disaster dataset**"
   ]
  },
  {
   "cell_type": "markdown",
   "metadata": {},
   "source": [
    "### Working with Locally Stored CSV Files \n",
    "* File we'll process in this example"
   ]
  },
  {
   "cell_type": "code",
   "execution_count": 3,
   "metadata": {},
   "outputs": [
    {
     "name": "stdout",
     "output_type": "stream",
     "text": [
      "100,Jones,24.98\r",
      "\r\n",
      "200,Doe,345.67\r",
      "\r\n",
      "300,White,0.0\r",
      "\r\n",
      "400,Stone,-42.16\r",
      "\r\n",
      "500,Rich,224.62\r",
      "\r\n"
     ]
    }
   ],
   "source": [
    "!cat accounts.csv"
   ]
  },
  {
   "cell_type": "markdown",
   "metadata": {},
   "source": [
    "* Load a CSV dataset into a `DataFrame` with the pandas function **`read_csv`**\n",
    "* `names` argument specifies the `DataFrame`’s column names\n",
    "    * Without this argument, `read_csv` assumes that the CSV file’s first row is a comma-delimited list of column names"
   ]
  },
  {
   "cell_type": "code",
   "execution_count": 4,
   "metadata": {},
   "outputs": [],
   "source": [
    "import pandas as pd"
   ]
  },
  {
   "cell_type": "code",
   "execution_count": 5,
   "metadata": {},
   "outputs": [],
   "source": [
    "df = pd.read_csv('accounts.csv', \n",
    "                 names=['account', 'name', 'balance'])"
   ]
  },
  {
   "cell_type": "code",
   "execution_count": 6,
   "metadata": {},
   "outputs": [
    {
     "data": {
      "text/html": [
       "<div>\n",
       "<style scoped>\n",
       "    .dataframe tbody tr th:only-of-type {\n",
       "        vertical-align: middle;\n",
       "    }\n",
       "\n",
       "    .dataframe tbody tr th {\n",
       "        vertical-align: top;\n",
       "    }\n",
       "\n",
       "    .dataframe thead th {\n",
       "        text-align: right;\n",
       "    }\n",
       "</style>\n",
       "<table border=\"1\" class=\"dataframe\">\n",
       "  <thead>\n",
       "    <tr style=\"text-align: right;\">\n",
       "      <th></th>\n",
       "      <th>account</th>\n",
       "      <th>name</th>\n",
       "      <th>balance</th>\n",
       "    </tr>\n",
       "  </thead>\n",
       "  <tbody>\n",
       "    <tr>\n",
       "      <th>0</th>\n",
       "      <td>100</td>\n",
       "      <td>Jones</td>\n",
       "      <td>24.98</td>\n",
       "    </tr>\n",
       "    <tr>\n",
       "      <th>1</th>\n",
       "      <td>200</td>\n",
       "      <td>Doe</td>\n",
       "      <td>345.67</td>\n",
       "    </tr>\n",
       "    <tr>\n",
       "      <th>2</th>\n",
       "      <td>300</td>\n",
       "      <td>White</td>\n",
       "      <td>0.00</td>\n",
       "    </tr>\n",
       "    <tr>\n",
       "      <th>3</th>\n",
       "      <td>400</td>\n",
       "      <td>Stone</td>\n",
       "      <td>-42.16</td>\n",
       "    </tr>\n",
       "    <tr>\n",
       "      <th>4</th>\n",
       "      <td>500</td>\n",
       "      <td>Rich</td>\n",
       "      <td>224.62</td>\n",
       "    </tr>\n",
       "  </tbody>\n",
       "</table>\n",
       "</div>"
      ],
      "text/plain": [
       "   account   name  balance\n",
       "0      100  Jones    24.98\n",
       "1      200    Doe   345.67\n",
       "2      300  White     0.00\n",
       "3      400  Stone   -42.16\n",
       "4      500   Rich   224.62"
      ]
     },
     "execution_count": 6,
     "metadata": {},
     "output_type": "execute_result"
    }
   ],
   "source": [
    "df"
   ]
  },
  {
   "cell_type": "markdown",
   "metadata": {},
   "source": [
    "* To save a `DataFrame` to a file using CSV format, call `DataFrame` method **`to_csv`**\n",
    "* `index=False` indicates that the row names (`0`–`4` at the left of the `DataFrame`’s output above are not written to the file\n",
    "* Resulting file contains the column names as the first row"
   ]
  },
  {
   "cell_type": "code",
   "execution_count": 7,
   "metadata": {},
   "outputs": [],
   "source": [
    "df.to_csv('accounts_from_dataframe.csv', index=False)"
   ]
  },
  {
   "cell_type": "code",
   "execution_count": 8,
   "metadata": {},
   "outputs": [
    {
     "name": "stdout",
     "output_type": "stream",
     "text": [
      "account,name,balance\r\n",
      "100,Jones,24.98\r\n",
      "200,Doe,345.67\r\n",
      "300,White,0.0\r\n",
      "400,Stone,-42.16\r\n",
      "500,Rich,224.62\r\n"
     ]
    }
   ],
   "source": [
    "!cat accounts_from_dataframe.csv"
   ]
  }
 ],
 "metadata": {
  "kernelspec": {
   "display_name": "Python 3 (ipykernel)",
   "language": "python",
   "name": "python3"
  },
  "language_info": {
   "codemirror_mode": {
    "name": "ipython",
    "version": 3
   },
   "file_extension": ".py",
   "mimetype": "text/x-python",
   "name": "python",
   "nbconvert_exporter": "python",
   "pygments_lexer": "ipython3",
   "version": "3.9.13"
  }
 },
 "nbformat": 4,
 "nbformat_minor": 2
}
