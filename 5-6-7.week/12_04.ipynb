{
 "cells": [
  {
   "cell_type": "markdown",
   "metadata": {},
   "source": [
    "**NOTE: Before running this notebook, be sure to place your copy of the play in the same folder as the notebook.**\n",
    "\n",
    "# 12.4 Readability Assessment with Textatistic\n",
    "* Text **readability** is affected by \n",
    "    * vocabulary used\n",
    "    * sentence structure\n",
    "    * sentence length\n",
    "    * topic \n",
    "    * and more. \n",
    "* [**Grammarly**](https://www.grammarly.com) uses tools like these to tune writing for readability\n",
    "* Textatistic uses several popular readability formulas\n",
    "    * **Flesch Reading Ease**\n",
    "    * **Flesch-Kincaid**\n",
    "    * **Gunning Fog**\n",
    "    * **Simple Measure of Gobbledygook (SMOG)** \n",
    "    * **Dale-Chall**\n",
    "    "
   ]
  },
  {
   "cell_type": "markdown",
   "metadata": {},
   "source": [
    "### Install Textatistic\n",
    "```python\n",
    "pip install textatistic\n",
    "```"
   ]
  },
  {
   "cell_type": "markdown",
   "metadata": {},
   "source": [
    "### Calculating Statistics and Readability Scores"
   ]
  },
  {
   "cell_type": "code",
   "execution_count": 1,
   "metadata": {},
   "outputs": [],
   "source": [
    "from pathlib import Path"
   ]
  },
  {
   "cell_type": "code",
   "execution_count": 2,
   "metadata": {},
   "outputs": [],
   "source": [
    "text = Path('RomeoAndJuliet.txt').read_text()"
   ]
  },
  {
   "cell_type": "code",
   "execution_count": 3,
   "metadata": {},
   "outputs": [],
   "source": [
    "from textatistic import Textatistic"
   ]
  },
  {
   "cell_type": "code",
   "execution_count": 4,
   "metadata": {},
   "outputs": [],
   "source": [
    "readability = Textatistic(text)"
   ]
  },
  {
   "cell_type": "markdown",
   "metadata": {},
   "source": [
    "* `Textatistic` method **`dict`** returns a dictionary containing various statistics and the readability scores: "
   ]
  },
  {
   "cell_type": "code",
   "execution_count": 5,
   "metadata": {},
   "outputs": [
    {
     "data": {
      "text/plain": [
       "'%.3f'"
      ]
     },
     "execution_count": 5,
     "metadata": {},
     "output_type": "execute_result"
    }
   ],
   "source": [
    "%precision 3"
   ]
  },
  {
   "cell_type": "code",
   "execution_count": 6,
   "metadata": {},
   "outputs": [
    {
     "data": {
      "text/plain": [
       "{'char_count': 115141,\n",
       " 'word_count': 26120,\n",
       " 'sent_count': 3218,\n",
       " 'sybl_count': 30678,\n",
       " 'notdalechall_count': 5823,\n",
       " 'polysyblword_count': 693,\n",
       " 'flesch_score': 99.234,\n",
       " 'fleschkincaid_score': 1.435,\n",
       " 'gunningfog_score': 4.308,\n",
       " 'smog_score': 5.780,\n",
       " 'dalechall_score': 7.559}"
      ]
     },
     "execution_count": 6,
     "metadata": {},
     "output_type": "execute_result"
    }
   ],
   "source": [
    "readability.dict()"
   ]
  },
  {
   "cell_type": "markdown",
   "metadata": {},
   "source": [
    "### Calculating Statistics and Readability Scores (cont.)\n",
    "* Each of the values in the dictionary is also accessible via a `Textatistic` property of the same name as the keys shown in the preceding output. The statistics produced include: \n",
    "* `char_count`—number of characters \n",
    "* `word_count`—number of words \n",
    "* `sent_count`—number of sentences \n",
    "* `sybl_count`—number of syllables \n",
    "* `notdalechall_count`—# of words not on the Dale-Chall list (words understood by 80% of 5th graders) \n",
    "    * Higher is less readable\n",
    "* `polysyblword_count`—# of words with 3+ syllables\n",
    "* `flesch_score`—Flesch Reading Ease score\n",
    "    * 90+ considered readable by 5th graders\n",
    "    * <30 require a college degree"
   ]
  },
  {
   "cell_type": "markdown",
   "metadata": {},
   "source": [
    "<hr style=\"height:2px; border:none; color:#000; background-color:#000;\">"
   ]
  },
  {
   "cell_type": "markdown",
   "metadata": {},
   "source": [
    "### Calculating Statistics and Readability Scores (cont.)\n",
    "* `fleschkincaid_score`—Flesch-Kincaid score corresponds to a **specific grade level**\n",
    "* `gunningfog_score`—Gunning Fog index value corresponds to a **specific grade level**\n",
    "* `smog_score`—[Simple Measure of Gobbledygook (SMOG)](https://en.wikipedia.org/wiki/SMOG)\n",
    "    * Corresponds to **years of education** required to understand text \n",
    "    * Considered particularly effective for **healthcare materials**\n",
    "* `dalechall_score`—Dale-Chall score\n",
    "    * Maps to **grade levels** from 4 and below to college graduate (grade 16) and above\n",
    "    * Considered **most reliable** for a **broad range of text types** \n",
    "    * [Dale Chall on Wikipedia](https://en.wikipedia.org/wiki/Readability#The_Dale%E2%80%93Chall_formula)"
   ]
  },
  {
   "cell_type": "markdown",
   "metadata": {},
   "source": [
    "<hr style=\"height:2px; border:none; color:#000; background-color:#000;\">"
   ]
  },
  {
   "cell_type": "markdown",
   "metadata": {},
   "source": [
    "### Calculating Statistics and Readability Scores (cont.)\n",
    "* [More details on each of the readability scores produced here and several others](https://en.wikipedia.org/wiki/Readability)\n",
    "* [The Textatistic documentation also shows the readability formulas used](https://en.wikipedia.org/wiki/Readability)"
   ]
  }
 ],
 "metadata": {
  "kernelspec": {
   "display_name": "Python 3 (ipykernel)",
   "language": "python",
   "name": "python3"
  },
  "language_info": {
   "codemirror_mode": {
    "name": "ipython",
    "version": 3
   },
   "file_extension": ".py",
   "mimetype": "text/x-python",
   "name": "python",
   "nbconvert_exporter": "python",
   "pygments_lexer": "ipython3",
   "version": "3.9.13"
  }
 },
 "nbformat": 4,
 "nbformat_minor": 2
}
