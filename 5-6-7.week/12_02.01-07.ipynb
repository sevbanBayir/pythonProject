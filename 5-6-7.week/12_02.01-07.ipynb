{
 "cells": [
  {
   "cell_type": "markdown",
   "metadata": {},
   "source": [
    "**_Note: This notebook contains ALL the code for Sections 12.2.12.2.7_**"
   ]
  },
  {
   "cell_type": "markdown",
   "metadata": {},
   "source": [
    "## 12.2.1 Create a TextBlob"
   ]
  },
  {
   "cell_type": "code",
   "metadata": {
    "ExecuteTime": {
     "end_time": "2024-11-01T07:19:30.037314Z",
     "start_time": "2024-11-01T07:19:30.031535Z"
    }
   },
   "source": [
    "from textblob import TextBlob"
   ],
   "outputs": [],
   "execution_count": 7
  },
  {
   "cell_type": "code",
   "metadata": {
    "ExecuteTime": {
     "end_time": "2024-11-01T07:19:30.044162Z",
     "start_time": "2024-11-01T07:19:30.042002Z"
    }
   },
   "source": [
    "text = 'Today is a beautiful day. Tomorrow looks like bad weather.'"
   ],
   "outputs": [],
   "execution_count": 8
  },
  {
   "cell_type": "code",
   "metadata": {
    "ExecuteTime": {
     "end_time": "2024-11-01T07:19:30.052735Z",
     "start_time": "2024-11-01T07:19:30.050862Z"
    }
   },
   "source": [
    "blob = TextBlob(text)"
   ],
   "outputs": [],
   "execution_count": 9
  },
  {
   "cell_type": "code",
   "metadata": {
    "ExecuteTime": {
     "end_time": "2024-11-01T07:19:30.064499Z",
     "start_time": "2024-11-01T07:19:30.061917Z"
    }
   },
   "source": [
    "blob"
   ],
   "outputs": [
    {
     "data": {
      "text/plain": [
       "TextBlob(\"Today is a beautiful day. Tomorrow looks like bad weather.\")"
      ]
     },
     "execution_count": 10,
     "metadata": {},
     "output_type": "execute_result"
    }
   ],
   "execution_count": 10
  },
  {
   "cell_type": "markdown",
   "metadata": {},
   "source": [
    "### `TextBlob`, `Sentence`s and `Word`s Support String Methods and Comparisons \n",
    "* `Sentence`s, `Word`s and `TextBlob`s inherit from **`BaseBlob`**, which defines many common methods and properties\n",
    "* [**`BaseBlob` documentation**](https://textblob.readthedocs.io/en/dev/api_reference.html)"
   ]
  },
  {
   "cell_type": "markdown",
   "metadata": {},
   "source": [
    "## 12.2.2 Tokenizing Text into Sentences and Words\n",
    "* Getting a list of sentences"
   ]
  },
  {
   "cell_type": "code",
   "metadata": {
    "ExecuteTime": {
     "end_time": "2024-11-01T07:19:30.102746Z",
     "start_time": "2024-11-01T07:19:30.085582Z"
    }
   },
   "source": [
    "blob.sentences"
   ],
   "outputs": [
    {
     "data": {
      "text/plain": [
       "[Sentence(\"Today is a beautiful day.\"),\n",
       " Sentence(\"Tomorrow looks like bad weather.\")]"
      ]
     },
     "execution_count": 11,
     "metadata": {},
     "output_type": "execute_result"
    }
   ],
   "execution_count": 11
  },
  {
   "cell_type": "markdown",
   "metadata": {},
   "source": [
    "* A `WordList` is a subclass of Python’s **built-in list type** with additional NLP methods. \n",
    "* Contains TextBlob `Word` objects"
   ]
  },
  {
   "cell_type": "code",
   "metadata": {
    "ExecuteTime": {
     "end_time": "2024-11-01T07:19:30.172307Z",
     "start_time": "2024-11-01T07:19:30.169626Z"
    }
   },
   "source": [
    "blob.words"
   ],
   "outputs": [
    {
     "data": {
      "text/plain": [
       "WordList(['Today', 'is', 'a', 'beautiful', 'day', 'Tomorrow', 'looks', 'like', 'bad', 'weather'])"
      ]
     },
     "execution_count": 12,
     "metadata": {},
     "output_type": "execute_result"
    }
   ],
   "execution_count": 12
  },
  {
   "cell_type": "markdown",
   "metadata": {},
   "source": [
    "## 12.2.3 Parts-of-Speech Tagging\n",
    "\n",
    "* Evaluate words based on context to determine **parts of speech**, which can help determine meaning\n",
    "* Eight primary English parts of speech\n",
    "\t* **nouns**, **pronouns**, **verbs**, **adjectives**, **adverbs**, **prepositions**, **conjunctions** and **interjections** (words that express emotion and that are typically followed by **punctuation**, like “Yes!” or “Ha!”) \n",
    "    * Many subcategories \n",
    "* Some words have multiple meanings\n",
    "\t* E.g., “set” and “run” have **hundreds of meanings** each! "
   ]
  },
  {
   "cell_type": "code",
   "metadata": {
    "ExecuteTime": {
     "end_time": "2024-11-01T07:19:30.259822Z",
     "start_time": "2024-11-01T07:19:30.257392Z"
    }
   },
   "source": [
    "blob"
   ],
   "outputs": [
    {
     "data": {
      "text/plain": [
       "TextBlob(\"Today is a beautiful day. Tomorrow looks like bad weather.\")"
      ]
     },
     "execution_count": 13,
     "metadata": {},
     "output_type": "execute_result"
    }
   ],
   "execution_count": 13
  },
  {
   "cell_type": "code",
   "metadata": {
    "ExecuteTime": {
     "end_time": "2024-11-01T07:19:30.331248Z",
     "start_time": "2024-11-01T07:19:30.268868Z"
    }
   },
   "source": [
    "blob.tags"
   ],
   "outputs": [
    {
     "data": {
      "text/plain": [
       "[('Today', 'NN'),\n",
       " ('is', 'VBZ'),\n",
       " ('a', 'DT'),\n",
       " ('beautiful', 'JJ'),\n",
       " ('day', 'NN'),\n",
       " ('Tomorrow', 'NNP'),\n",
       " ('looks', 'VBZ'),\n",
       " ('like', 'IN'),\n",
       " ('bad', 'JJ'),\n",
       " ('weather', 'NN')]"
      ]
     },
     "execution_count": 14,
     "metadata": {},
     "output_type": "execute_result"
    }
   ],
   "execution_count": 14
  },
  {
   "cell_type": "markdown",
   "metadata": {},
   "source": [
    "## 12.2.3 Parts-of-Speech Tagging (cont.)\n",
    "* `TextBlob` uses a `PatternTagger` to determine parts-of-speech\n",
    "* Uses [**pattern library**](https://www.clips.uantwerpen.be/pattern) POS tagging\n",
    "* Pattern's [63 parts-of-speech tags](https://www.clips.uantwerpen.be/pages/MBSP-tags`)\n",
    "* In preceding output:\n",
    "    * `NN`—a **singular noun** or **mass noun**\n",
    "    * `VBZ`—a [**third person singular present verb**](https://www.grammar.cl/Present/Verbs_Third_Person.htm)\n",
    "    * `DT`—a [**determiner**](https://en.wikipedia.org/wiki/Determiner) (the, an, that, this, my, their, etc.)\n",
    "    * `JJ`—an **adjective**\n",
    "    * `NNP`—a **proper singular noun**\n",
    "    * `IN`—a **subordinating conjunction** or **preposition**"
   ]
  },
  {
   "cell_type": "markdown",
   "metadata": {},
   "source": [
    "## 12.2.4 Extracting Noun Phrases\n",
    "* Preparing to purchase a **water ski**\n",
    "* Might search for **“best water ski”**—**“water ski”** is a **noun phrase** \n",
    "* For best results, search engine must parse the noun phrase properly \n",
    "* Try searching for **“best water,”** **“best ski”**,  **“water ski”** and **“best water ski”** and see what you get "
   ]
  },
  {
   "cell_type": "code",
   "metadata": {
    "ExecuteTime": {
     "end_time": "2024-11-01T07:19:30.338353Z",
     "start_time": "2024-11-01T07:19:30.336249Z"
    }
   },
   "source": [
    "blob"
   ],
   "outputs": [
    {
     "data": {
      "text/plain": [
       "TextBlob(\"Today is a beautiful day. Tomorrow looks like bad weather.\")"
      ]
     },
     "execution_count": 15,
     "metadata": {},
     "output_type": "execute_result"
    }
   ],
   "execution_count": 15
  },
  {
   "cell_type": "code",
   "metadata": {
    "ExecuteTime": {
     "end_time": "2024-11-01T07:19:31.550495Z",
     "start_time": "2024-11-01T07:19:30.351660Z"
    }
   },
   "source": [
    "blob.noun_phrases"
   ],
   "outputs": [
    {
     "data": {
      "text/plain": [
       "WordList(['beautiful day', 'tomorrow', 'bad weather'])"
      ]
     },
     "execution_count": 16,
     "metadata": {},
     "output_type": "execute_result"
    }
   ],
   "execution_count": 16
  },
  {
   "cell_type": "markdown",
   "metadata": {},
   "source": [
    "* A **`Word`** can represent a noun phrase with **multiple words**. "
   ]
  },
  {
   "cell_type": "markdown",
   "metadata": {},
   "source": [
    "## 12.2.5 Sentiment Analysis with TextBlob’s Default Sentiment Analyzer\n",
    "* Determines whether text is **positive**, **neutral** or **negative**. \n",
    "* One of the most common and valuable NLP tasks (several later case studies do it) \n",
    "* Consider the **positive word “good”** and the **negative word “bad\"**\n",
    "    * Alone they are positive and negative, respectively, but...\n",
    "    * **The food is not good** — clearly has negative sentiment\n",
    "    * **The movie was not bad** — clearly has positive sentiment (but not as positive as **The movie was excellent!**)\n",
    "* Complex **machine-learning problem**, but libraries like TextBlob can do it for you"
   ]
  },
  {
   "cell_type": "markdown",
   "metadata": {},
   "source": [
    "### Getting the Sentiment of a TextBlob"
   ]
  },
  {
   "cell_type": "code",
   "metadata": {
    "ExecuteTime": {
     "end_time": "2024-11-01T07:19:31.557662Z",
     "start_time": "2024-11-01T07:19:31.555536Z"
    }
   },
   "source": [
    "blob"
   ],
   "outputs": [
    {
     "data": {
      "text/plain": [
       "TextBlob(\"Today is a beautiful day. Tomorrow looks like bad weather.\")"
      ]
     },
     "execution_count": 17,
     "metadata": {},
     "output_type": "execute_result"
    }
   ],
   "execution_count": 17
  },
  {
   "cell_type": "code",
   "metadata": {
    "ExecuteTime": {
     "end_time": "2024-11-01T07:19:31.584610Z",
     "start_time": "2024-11-01T07:19:31.565679Z"
    }
   },
   "source": [
    "blob.sentiment"
   ],
   "outputs": [
    {
     "data": {
      "text/plain": [
       "Sentiment(polarity=0.07500000000000007, subjectivity=0.8333333333333333)"
      ]
     },
     "execution_count": 18,
     "metadata": {},
     "output_type": "execute_result"
    }
   ],
   "execution_count": 18
  },
  {
   "cell_type": "markdown",
   "metadata": {},
   "source": [
    "* **`polarity`** is the **sentiment** — from **`-1.0` (negative)** to **`1.0` (positive)** with **`0.0`** being **neutral**. \n",
    "* **`subjectivity`** is a value from **0.0 (objective)** to **1.0 (subjective)**. "
   ]
  },
  {
   "cell_type": "markdown",
   "metadata": {},
   "source": [
    "### Getting the polarity and subjectivity from the Sentiment Object\n",
    "* **`%precision`** magic specifies the **default precision** for **standalone** `float` objects and `float` objects in **built-in types** like lists, dictionaries and tuples:"
   ]
  },
  {
   "cell_type": "code",
   "metadata": {
    "ExecuteTime": {
     "end_time": "2024-11-01T07:19:31.592563Z",
     "start_time": "2024-11-01T07:19:31.590343Z"
    }
   },
   "source": [
    "%precision 3"
   ],
   "outputs": [
    {
     "data": {
      "text/plain": [
       "'%.3f'"
      ]
     },
     "execution_count": 19,
     "metadata": {},
     "output_type": "execute_result"
    }
   ],
   "execution_count": 19
  },
  {
   "cell_type": "code",
   "metadata": {
    "ExecuteTime": {
     "end_time": "2024-11-01T07:19:31.603249Z",
     "start_time": "2024-11-01T07:19:31.601213Z"
    }
   },
   "source": [
    "blob.sentiment.polarity"
   ],
   "outputs": [
    {
     "data": {
      "text/plain": [
       "0.075"
      ]
     },
     "execution_count": 20,
     "metadata": {},
     "output_type": "execute_result"
    }
   ],
   "execution_count": 20
  },
  {
   "cell_type": "code",
   "metadata": {
    "ExecuteTime": {
     "end_time": "2024-11-01T07:19:31.616328Z",
     "start_time": "2024-11-01T07:19:31.614050Z"
    }
   },
   "source": [
    "blob.sentiment.subjectivity"
   ],
   "outputs": [
    {
     "data": {
      "text/plain": [
       "0.833"
      ]
     },
     "execution_count": 21,
     "metadata": {},
     "output_type": "execute_result"
    }
   ],
   "execution_count": 21
  },
  {
   "cell_type": "markdown",
   "metadata": {},
   "source": [
    "### Getting the Sentiment of a Sentence \n",
    "* One is **positive (`0.85`)** and one is **negative (`-0.6999999999999998`)**, which might explain why the entire `TextBlob`’s `sentiment` was close to **`0.0` (neutral)**"
   ]
  },
  {
   "cell_type": "code",
   "metadata": {
    "ExecuteTime": {
     "end_time": "2024-11-01T07:19:31.631473Z",
     "start_time": "2024-11-01T07:19:31.629264Z"
    }
   },
   "source": [
    "for sentence in blob.sentences:\n",
    "    print(sentence.sentiment)"
   ],
   "outputs": [
    {
     "name": "stdout",
     "output_type": "stream",
     "text": [
      "Sentiment(polarity=0.85, subjectivity=1.0)\n",
      "Sentiment(polarity=-0.6999999999999998, subjectivity=0.6666666666666666)\n"
     ]
    }
   ],
   "execution_count": 22
  },
  {
   "cell_type": "markdown",
   "metadata": {},
   "source": [
    "## 12.2.6 Sentiment Analysis with the NaiveBayesAnalyzer "
   ]
  },
  {
   "cell_type": "code",
   "metadata": {
    "ExecuteTime": {
     "end_time": "2024-11-01T07:19:31.643677Z",
     "start_time": "2024-11-01T07:19:31.642115Z"
    }
   },
   "source": [
    "from textblob.sentiments import NaiveBayesAnalyzer"
   ],
   "outputs": [],
   "execution_count": 23
  },
  {
   "cell_type": "code",
   "metadata": {
    "ExecuteTime": {
     "end_time": "2024-11-01T07:19:31.649574Z",
     "start_time": "2024-11-01T07:19:31.647978Z"
    }
   },
   "source": [
    "blob = TextBlob(text, analyzer=NaiveBayesAnalyzer())"
   ],
   "outputs": [],
   "execution_count": 24
  },
  {
   "cell_type": "code",
   "metadata": {
    "ExecuteTime": {
     "end_time": "2024-11-01T07:19:31.655462Z",
     "start_time": "2024-11-01T07:19:31.653517Z"
    }
   },
   "source": [
    "blob"
   ],
   "outputs": [
    {
     "data": {
      "text/plain": [
       "TextBlob(\"Today is a beautiful day. Tomorrow looks like bad weather.\")"
      ]
     },
     "execution_count": 25,
     "metadata": {},
     "output_type": "execute_result"
    }
   ],
   "execution_count": 25
  },
  {
   "cell_type": "code",
   "metadata": {
    "ExecuteTime": {
     "end_time": "2024-11-01T07:19:33.311199Z",
     "start_time": "2024-11-01T07:19:31.665095Z"
    }
   },
   "source": [
    "blob.sentiment"
   ],
   "outputs": [
    {
     "data": {
      "text/plain": [
       "Sentiment(classification='neg', p_pos=0.47662917962091056, p_neg=0.5233708203790892)"
      ]
     },
     "execution_count": 26,
     "metadata": {},
     "output_type": "execute_result"
    }
   ],
   "execution_count": 26
  },
  {
   "cell_type": "code",
   "metadata": {
    "ExecuteTime": {
     "end_time": "2024-11-01T07:19:33.320373Z",
     "start_time": "2024-11-01T07:19:33.318426Z"
    }
   },
   "source": [
    "for sentence in blob.sentences:\n",
    "    print(sentence.sentiment)"
   ],
   "outputs": [
    {
     "name": "stdout",
     "output_type": "stream",
     "text": [
      "Sentiment(classification='pos', p_pos=0.8117563121751951, p_neg=0.18824368782480477)\n",
      "Sentiment(classification='neg', p_pos=0.174363226578349, p_neg=0.8256367734216521)\n"
     ]
    }
   ],
   "execution_count": 27
  }
 ],
 "metadata": {
  "kernelspec": {
   "display_name": "Python 3 (ipykernel)",
   "language": "python",
   "name": "python3"
  },
  "language_info": {
   "codemirror_mode": {
    "name": "ipython",
    "version": 3
   },
   "file_extension": ".py",
   "mimetype": "text/x-python",
   "name": "python",
   "nbconvert_exporter": "python",
   "pygments_lexer": "ipython3",
   "version": "3.9.13"
  }
 },
 "nbformat": 4,
 "nbformat_minor": 2
}
