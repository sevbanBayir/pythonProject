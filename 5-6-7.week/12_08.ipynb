{
 "cells": [
  {
   "cell_type": "markdown",
   "metadata": {},
   "source": [
    "# 12.8 Machine Learning and Deep Learning Natural Language Applications\n",
    "* **Answering natural language questions**—For example, our publisher Pearson Education, has a partnership with **IBM Watson** that uses **Watson as a virtual tutor**. Students ask Watson natural language questions and get answers. \n",
    "* **Summarizing documents**—analyzing documents and producing **short summaries** (**abstracts**) that can, for example, be **included with search results** and can help you decide what to read. \n",
    "* **Speech synthesis (speech-to-text)**, **speech recognition (text-to-speech)**, **inter-language text-to-text translation**.\n",
    "* **Collaborative filtering**—used to implement **recommender systems** (“if you liked this movie, you might also like…”).\n",
    "* **Text classification**—e.g., **classifying news articles by categories**, such as world news, national news, local news, sports, business, entertainment, etc.\n",
    "* **Topic modeling**—finding the **topics** discussed in documents. \n",
    "* **Sarcasm detection**—often used with **sentiment analysis**.\n",
    "* **Text simplification**—making text **more concise** and **easier to read**.\n",
    "* **Speech to sign language and vice versa**—to enable a conversation with a hearing-impaired person.\n",
    "* **Lip reader technology**—for people who can’t speak, convert lip movement to text or speech to enable conversation. \n",
    "* **Closed captioning**—**automatically** adding text captions to video."
   ]
  }
 ],
 "metadata": {
  "kernelspec": {
   "display_name": "Python 3 (ipykernel)",
   "language": "python",
   "name": "python3"
  },
  "language_info": {
   "codemirror_mode": {
    "name": "ipython",
    "version": 3
   },
   "file_extension": ".py",
   "mimetype": "text/x-python",
   "name": "python",
   "nbconvert_exporter": "python",
   "pygments_lexer": "ipython3",
   "version": "3.9.13"
  }
 },
 "nbformat": 4,
 "nbformat_minor": 2
}
