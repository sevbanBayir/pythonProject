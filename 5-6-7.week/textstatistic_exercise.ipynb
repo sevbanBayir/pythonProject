{
 "cells": [
  {
   "cell_type": "code",
   "id": "initial_id",
   "metadata": {
    "collapsed": true,
    "ExecuteTime": {
     "end_time": "2024-11-15T07:34:47.526581Z",
     "start_time": "2024-11-15T07:34:47.524037Z"
    }
   },
   "source": [
    "from scipy.constants import precision\n",
    "from textatistic import Textatistic"
   ],
   "outputs": [],
   "execution_count": 13
  },
  {
   "metadata": {
    "ExecuteTime": {
     "end_time": "2024-11-15T07:34:47.538905Z",
     "start_time": "2024-11-15T07:34:47.536588Z"
    }
   },
   "cell_type": "code",
   "source": "from pathlib import Path",
   "id": "1bb853740607d6f",
   "outputs": [],
   "execution_count": 14
  },
  {
   "metadata": {
    "ExecuteTime": {
     "end_time": "2024-11-15T07:34:47.549985Z",
     "start_time": "2024-11-15T07:34:47.547739Z"
    }
   },
   "cell_type": "code",
   "source": "text = Path(\"a good old scout.txt\").read_text()",
   "id": "7131cb075dc91849",
   "outputs": [],
   "execution_count": 15
  },
  {
   "metadata": {
    "ExecuteTime": {
     "end_time": "2024-11-15T07:34:47.736946Z",
     "start_time": "2024-11-15T07:34:47.556305Z"
    }
   },
   "cell_type": "code",
   "source": "readability = Textatistic(text)",
   "id": "6e4ddcbd461ff441",
   "outputs": [],
   "execution_count": 16
  },
  {
   "metadata": {
    "ExecuteTime": {
     "end_time": "2024-11-15T07:35:12.477824Z",
     "start_time": "2024-11-15T07:35:12.474494Z"
    }
   },
   "cell_type": "code",
   "source": "%precision 3",
   "id": "26e5f632ab44d655",
   "outputs": [
    {
     "data": {
      "text/plain": [
       "'%.3f'"
      ]
     },
     "execution_count": 18,
     "metadata": {},
     "output_type": "execute_result"
    }
   ],
   "execution_count": 18
  },
  {
   "metadata": {
    "ExecuteTime": {
     "end_time": "2024-11-15T07:35:14.475934Z",
     "start_time": "2024-11-15T07:35:14.473139Z"
    }
   },
   "cell_type": "code",
   "source": "readability.dict()",
   "id": "90c433e119b52d9d",
   "outputs": [
    {
     "data": {
      "text/plain": [
       "{'char_count': 19954,\n",
       " 'word_count': 4404,\n",
       " 'sent_count': 356,\n",
       " 'sybl_count': 5341,\n",
       " 'notdalechall_count': 1108,\n",
       " 'polysyblword_count': 143,\n",
       " 'flesch_score': 91.679,\n",
       " 'fleschkincaid_score': 3.545,\n",
       " 'gunningfog_score': 6.247,\n",
       " 'smog_score': 6.750,\n",
       " 'dalechall_score': 8.223}"
      ]
     },
     "execution_count": 19,
     "metadata": {},
     "output_type": "execute_result"
    }
   ],
   "execution_count": 19
  }
 ],
 "metadata": {
  "kernelspec": {
   "display_name": "Python 3",
   "language": "python",
   "name": "python3"
  },
  "language_info": {
   "codemirror_mode": {
    "name": "ipython",
    "version": 2
   },
   "file_extension": ".py",
   "mimetype": "text/x-python",
   "name": "python",
   "nbconvert_exporter": "python",
   "pygments_lexer": "ipython2",
   "version": "2.7.6"
  }
 },
 "nbformat": 4,
 "nbformat_minor": 5
}
