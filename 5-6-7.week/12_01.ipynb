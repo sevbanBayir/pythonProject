{
 "cells": [
  {
   "cell_type": "markdown",
   "metadata": {},
   "source": [
    "# 12.1 Introduction&mdash;Natural Language Communication Examples   \n",
    "| Examples of natural language communications\n",
    "| :--- \n",
    "| **Conversations** between people \n",
    "| Communicating with a hearing-impaired friend via **sign language** \n",
    "| Learning a **foreign language** to prepare for travel abroad \n",
    "| Using a **smartphone** to read a menu in another language \n",
    "| Reading/writing **text messages**\n",
    "| A blind colleague reading **braille** or listening to a **screen reader** describe what’s on a computer screen\n",
    "| Receiving a client **email** in Spanish, translating it and responding in English knowing that your client can easily translate your email back to Spanish\n",
    "| and much more. "
   ]
  },
  {
   "cell_type": "markdown",
   "metadata": {},
   "source": [
    "# 12.1 Introduction (cont.)\n",
    "* NLP is performed on **text collections** (**corpora**, plural of **corpus**):\n",
    "    * Tweets\n",
    "    * Facebook posts\n",
    "    * Conversations\n",
    "    * Movie reviews\n",
    "    * Documents\n",
    "    * Books\n",
    "    * News\n",
    "    * And more\n",
    "* **Nuances of meaning** make natural language understanding difficult \n",
    "    * Text’s meaning can be influenced by **context** and **reader’s “world view”** "
   ]
  }
 ],
 "metadata": {
  "celltoolbar": "Slideshow",
  "kernelspec": {
   "display_name": "Python 3 (ipykernel)",
   "language": "python",
   "name": "python3"
  },
  "language_info": {
   "codemirror_mode": {
    "name": "ipython",
    "version": 3
   },
   "file_extension": ".py",
   "mimetype": "text/x-python",
   "name": "python",
   "nbconvert_exporter": "python",
   "pygments_lexer": "ipython3",
   "version": "3.9.13"
  }
 },
 "nbformat": 4,
 "nbformat_minor": 2
}
