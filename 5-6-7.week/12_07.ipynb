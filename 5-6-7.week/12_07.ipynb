{
 "cells": [
  {
   "cell_type": "markdown",
   "metadata": {},
   "source": [
    "# 12.7 Other NLP Libraries and Tools\n",
    "Additional mostly free and open source NLP libraries and APIs: \n",
    "* **Gensim**—**Similarity detection** and **topic modeling**\n",
    "* **Google Cloud Natural Language API**—Cloud-based API for NLP tasks such as **named entity recognition**, **sentiment analysis**, **parts-of-speech analysis and visualization**, **determining content categories** and more\n",
    "* **Microsoft Linguistic Analysis API**\n",
    "* **Bing sentiment analysis**—**Microsoft’s Bing search engine** now uses **sentiment** in its **search results**\n",
    "* **PyTorch NLP**—**Deep learning library** for **NLP**  \n",
    "* **Stanford CoreNLP**—A **Java NLP library**, which also provides a **Python wrapper**. Includes **corefererence resolution**, which finds all references to the same thing.\n",
    "* **Apache OpenNLP**—Another **Java-based NLP library** for common tasks, including **coreference resolution**. **Python wrappers** are available.\n",
    "* **PyNLPl** (pineapple)—**Python NLP library** provides a range of NLP capabilities\n",
    "* **SnowNLP**—**Python library** that simplifies **Chinese text processing**\n",
    "* **KoNLPy**—**Korean language NLP**\n",
    "* **`stop-words`**—**Python library** with **stop words for many languages**. We used NLTK’s stop words lists in this chapter. \n",
    "* **`TextRazor`**—A **paid cloud-based NLP API** that provides a **free tier**"
   ]
  }
 ],
 "metadata": {
  "kernelspec": {
   "display_name": "Python 3 (ipykernel)",
   "language": "python",
   "name": "python3"
  },
  "language_info": {
   "codemirror_mode": {
    "name": "ipython",
    "version": 3
   },
   "file_extension": ".py",
   "mimetype": "text/x-python",
   "name": "python",
   "nbconvert_exporter": "python",
   "pygments_lexer": "ipython3",
   "version": "3.9.13"
  }
 },
 "nbformat": 4,
 "nbformat_minor": 2
}
