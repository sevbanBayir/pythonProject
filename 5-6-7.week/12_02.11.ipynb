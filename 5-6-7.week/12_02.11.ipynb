{
 "cells": [
  {
   "cell_type": "markdown",
   "metadata": {},
   "source": [
    "**NOTE: Before running this notebook, place a copy of your downloaded RomeoAndJuliet.txt file in the same folder with this notebook.**\n",
    "\n",
    "## 12.2.11 Word Frequencies\n",
    "* Various techniques for detecting **similarity between documents** rely on **word frequencies**\n",
    "* `TextBlob` can count word frequencies for you\n",
    "* When you read a file with `Path`’s `read_text` method, it closes the file immediately after it finishes reading the file"
   ]
  },
  {
   "cell_type": "code",
   "metadata": {
    "ExecuteTime": {
     "end_time": "2024-11-01T08:27:01.578671Z",
     "start_time": "2024-11-01T08:27:01.576912Z"
    }
   },
   "source": [
    "from pathlib import Path"
   ],
   "outputs": [],
   "execution_count": 19
  },
  {
   "cell_type": "code",
   "metadata": {
    "ExecuteTime": {
     "end_time": "2024-11-01T08:27:01.584478Z",
     "start_time": "2024-11-01T08:27:01.582905Z"
    }
   },
   "source": [
    "from textblob import TextBlob"
   ],
   "outputs": [],
   "execution_count": 20
  },
  {
   "cell_type": "code",
   "metadata": {
    "ExecuteTime": {
     "end_time": "2024-11-01T08:27:01.595185Z",
     "start_time": "2024-11-01T08:27:01.588519Z"
    }
   },
   "source": [
    "blob = TextBlob(Path('RomeoAndJuliet.txt').read_text())"
   ],
   "outputs": [],
   "execution_count": 21
  },
  {
   "cell_type": "markdown",
   "metadata": {},
   "source": [
    "* Access the word frequencies through the `TextBlob`’s `word_counts` dictionary"
   ]
  },
  {
   "cell_type": "code",
   "metadata": {
    "ExecuteTime": {
     "end_time": "2024-11-01T08:27:19.089655Z",
     "start_time": "2024-11-01T08:27:19.083520Z"
    }
   },
   "source": "blob.word_counts['juliet']",
   "outputs": [
    {
     "data": {
      "text/plain": [
       "190"
      ]
     },
     "execution_count": 27,
     "metadata": {},
     "output_type": "execute_result"
    }
   ],
   "execution_count": 27
  },
  {
   "cell_type": "code",
   "metadata": {
    "ExecuteTime": {
     "end_time": "2024-11-01T08:27:01.813228Z",
     "start_time": "2024-11-01T08:27:01.810845Z"
    }
   },
   "source": [
    "blob.word_counts['romeo']"
   ],
   "outputs": [
    {
     "data": {
      "text/plain": [
       "315"
      ]
     },
     "execution_count": 23,
     "metadata": {},
     "output_type": "execute_result"
    }
   ],
   "execution_count": 23
  },
  {
   "cell_type": "code",
   "metadata": {
    "ExecuteTime": {
     "end_time": "2024-11-01T08:27:01.882354Z",
     "start_time": "2024-11-01T08:27:01.879855Z"
    }
   },
   "source": [
    "blob.word_counts['thou']"
   ],
   "outputs": [
    {
     "data": {
      "text/plain": [
       "278"
      ]
     },
     "execution_count": 24,
     "metadata": {},
     "output_type": "execute_result"
    }
   ],
   "execution_count": 24
  },
  {
   "cell_type": "markdown",
   "metadata": {},
   "source": [
    "* If you already have tokenized a `TextBlob` into a `WordList`, you can count specific words in the list via the `count` method"
   ]
  },
  {
   "cell_type": "code",
   "metadata": {
    "ExecuteTime": {
     "end_time": "2024-11-01T08:27:01.934125Z",
     "start_time": "2024-11-01T08:27:01.929159Z"
    }
   },
   "source": [
    "blob.words.count('joy')"
   ],
   "outputs": [
    {
     "data": {
      "text/plain": [
       "14"
      ]
     },
     "execution_count": 25,
     "metadata": {},
     "output_type": "execute_result"
    }
   ],
   "execution_count": 25
  },
  {
   "cell_type": "code",
   "metadata": {
    "ExecuteTime": {
     "end_time": "2024-11-01T08:29:02.030111Z",
     "start_time": "2024-11-01T08:29:02.025276Z"
    }
   },
   "source": [
    "blob.noun_phrases.count('lady capulet')"
   ],
   "outputs": [
    {
     "data": {
      "text/plain": [
       "46"
      ]
     },
     "execution_count": 28,
     "metadata": {},
     "output_type": "execute_result"
    }
   ],
   "execution_count": 28
  }
 ],
 "metadata": {
  "kernelspec": {
   "display_name": "Python 3 (ipykernel)",
   "language": "python",
   "name": "python3"
  },
  "language_info": {
   "codemirror_mode": {
    "name": "ipython",
    "version": 3
   },
   "file_extension": ".py",
   "mimetype": "text/x-python",
   "name": "python",
   "nbconvert_exporter": "python",
   "pygments_lexer": "ipython3",
   "version": "3.9.13"
  }
 },
 "nbformat": 4,
 "nbformat_minor": 2
}
