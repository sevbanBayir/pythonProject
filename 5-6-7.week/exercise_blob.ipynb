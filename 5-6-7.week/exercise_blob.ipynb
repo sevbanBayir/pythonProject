{
 "cells": [
  {
   "cell_type": "code",
   "id": "initial_id",
   "metadata": {
    "collapsed": true,
    "ExecuteTime": {
     "end_time": "2024-11-01T07:40:39.487469Z",
     "start_time": "2024-11-01T07:40:39.484313Z"
    }
   },
   "source": "from textblob import TextBlob\n",
   "outputs": [],
   "execution_count": 20
  },
  {
   "metadata": {
    "ExecuteTime": {
     "end_time": "2024-11-01T07:40:39.494993Z",
     "start_time": "2024-11-01T07:40:39.492992Z"
    }
   },
   "cell_type": "code",
   "source": "text = 'This is a text blob'\n",
   "id": "c0c76f661520cc1a",
   "outputs": [],
   "execution_count": 21
  },
  {
   "metadata": {
    "ExecuteTime": {
     "end_time": "2024-11-01T07:40:39.502071Z",
     "start_time": "2024-11-01T07:40:39.500357Z"
    }
   },
   "cell_type": "code",
   "source": "blob = TextBlob(text)",
   "id": "8157ce9faa750941",
   "outputs": [],
   "execution_count": 22
  },
  {
   "metadata": {
    "ExecuteTime": {
     "end_time": "2024-11-01T07:40:39.510311Z",
     "start_time": "2024-11-01T07:40:39.508015Z"
    }
   },
   "cell_type": "code",
   "source": "blob",
   "id": "ba653884ab6f4820",
   "outputs": [
    {
     "data": {
      "text/plain": [
       "TextBlob(\"This is a text blob\")"
      ]
     },
     "execution_count": 23,
     "metadata": {},
     "output_type": "execute_result"
    }
   ],
   "execution_count": 23
  },
  {
   "metadata": {
    "ExecuteTime": {
     "end_time": "2024-11-01T07:40:39.583889Z",
     "start_time": "2024-11-01T07:40:39.581028Z"
    }
   },
   "cell_type": "code",
   "source": "blob.tags",
   "id": "5fc8ea853af7332a",
   "outputs": [
    {
     "data": {
      "text/plain": [
       "[('This', 'DT'), ('is', 'VBZ'), ('a', 'DT'), ('text', 'NN'), ('blob', 'NN')]"
      ]
     },
     "execution_count": 24,
     "metadata": {},
     "output_type": "execute_result"
    }
   ],
   "execution_count": 24
  },
  {
   "metadata": {
    "ExecuteTime": {
     "end_time": "2024-11-01T07:40:39.657555Z",
     "start_time": "2024-11-01T07:40:39.654707Z"
    }
   },
   "cell_type": "code",
   "source": [
    "text = 'The red brick factory is for sale'\n",
    "blob = TextBlob(text)\n",
    "blob.noun_phrases"
   ],
   "id": "f72a367cb16c58ec",
   "outputs": [
    {
     "data": {
      "text/plain": [
       "WordList(['red brick factory'])"
      ]
     },
     "execution_count": 25,
     "metadata": {},
     "output_type": "execute_result"
    }
   ],
   "execution_count": 25
  },
  {
   "metadata": {
    "ExecuteTime": {
     "end_time": "2024-11-01T07:40:39.704303Z",
     "start_time": "2024-11-01T07:40:39.701917Z"
    }
   },
   "cell_type": "code",
   "source": "blob.sentiment",
   "id": "19c185243600ef2e",
   "outputs": [
    {
     "data": {
      "text/plain": [
       "Sentiment(polarity=0.0, subjectivity=0.0)"
      ]
     },
     "execution_count": 26,
     "metadata": {},
     "output_type": "execute_result"
    }
   ],
   "execution_count": 26
  },
  {
   "metadata": {
    "ExecuteTime": {
     "end_time": "2024-11-01T07:45:31.101064Z",
     "start_time": "2024-11-01T07:45:29.783343Z"
    }
   },
   "cell_type": "code",
   "source": [
    "from textblob.sentiments import NaiveBayesAnalyzer\n",
    "text = \"The food is not so good actually.\"\n",
    "blob = TextBlob(text, analyzer= NaiveBayesAnalyzer())\n",
    "blob.sentiment"
   ],
   "id": "3ed597c7aa3414f",
   "outputs": [
    {
     "data": {
      "text/plain": [
       "Sentiment(classification='neg', p_pos=0.48290172451408264, p_neg=0.5170982754859175)"
      ]
     },
     "execution_count": 33,
     "metadata": {},
     "output_type": "execute_result"
    }
   ],
   "execution_count": 33
  },
  {
   "metadata": {
    "ExecuteTime": {
     "end_time": "2024-11-01T07:45:49.661121Z",
     "start_time": "2024-11-01T07:45:48.261366Z"
    }
   },
   "cell_type": "code",
   "source": [
    "text = \"The movie was excellent.\"\n",
    "blob = TextBlob(text, analyzer= NaiveBayesAnalyzer())\n",
    "blob.sentiment"
   ],
   "id": "cf0efd64c70ed48",
   "outputs": [
    {
     "data": {
      "text/plain": [
       "Sentiment(classification='pos', p_pos=0.7318278242290406, p_neg=0.26817217577095936)"
      ]
     },
     "execution_count": 34,
     "metadata": {},
     "output_type": "execute_result"
    }
   ],
   "execution_count": 34
  }
 ],
 "metadata": {
  "kernelspec": {
   "display_name": "Python 3",
   "language": "python",
   "name": "python3"
  },
  "language_info": {
   "codemirror_mode": {
    "name": "ipython",
    "version": 2
   },
   "file_extension": ".py",
   "mimetype": "text/x-python",
   "name": "python",
   "nbconvert_exporter": "python",
   "pygments_lexer": "ipython2",
   "version": "2.7.6"
  }
 },
 "nbformat": 4,
 "nbformat_minor": 5
}
