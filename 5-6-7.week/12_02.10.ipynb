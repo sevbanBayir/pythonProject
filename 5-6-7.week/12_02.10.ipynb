{
 "cells": [
  {
   "cell_type": "markdown",
   "metadata": {},
   "source": [
    "## 12.2.10 Normalization: Stemming and Lemmatization\n",
    "* **Stemming** removes a **prefix** or **suffix** from a word leaving only a **stem**, which **may or may not be a real word**\n",
    "* **Lemmatization** is similar, but factors in the word’s **part of speech** and **meaning** and results in a **real word**\n",
    "* Both **normalize** words for analysis\n",
    "\t* Before calculating statistics on words in a body of text, you might convert all words to lowercase so that capitalized and lowercase words are not treated differently. \n",
    "* You might want to use a word’s root to represent the word’s many forms. \n",
    "\t* E.g., treat \"program\" and \"programs\" as \"program\""
   ]
  },
  {
   "cell_type": "code",
   "metadata": {
    "ExecuteTime": {
     "end_time": "2024-11-01T08:19:01.194566Z",
     "start_time": "2024-11-01T08:19:01.035123Z"
    }
   },
   "source": [
    "from textblob import Word"
   ],
   "outputs": [],
   "execution_count": 1
  },
  {
   "cell_type": "code",
   "metadata": {
    "ExecuteTime": {
     "end_time": "2024-11-01T08:19:01.198955Z",
     "start_time": "2024-11-01T08:19:01.197390Z"
    }
   },
   "source": [
    "word = Word('varieties')"
   ],
   "outputs": [],
   "execution_count": 2
  },
  {
   "cell_type": "code",
   "metadata": {
    "ExecuteTime": {
     "end_time": "2024-11-01T08:19:01.282541Z",
     "start_time": "2024-11-01T08:19:01.279319Z"
    }
   },
   "source": [
    "word.stem()"
   ],
   "outputs": [
    {
     "data": {
      "text/plain": [
       "'varieti'"
      ]
     },
     "execution_count": 3,
     "metadata": {},
     "output_type": "execute_result"
    }
   ],
   "execution_count": 3
  },
  {
   "cell_type": "code",
   "metadata": {
    "ExecuteTime": {
     "end_time": "2024-11-01T08:19:02.526237Z",
     "start_time": "2024-11-01T08:19:01.341538Z"
    }
   },
   "source": [
    "word.lemmatize()"
   ],
   "outputs": [
    {
     "data": {
      "text/plain": [
       "'variety'"
      ]
     },
     "execution_count": 4,
     "metadata": {},
     "output_type": "execute_result"
    }
   ],
   "execution_count": 4
  }
 ],
 "metadata": {
  "kernelspec": {
   "display_name": "Python 3 (ipykernel)",
   "language": "python",
   "name": "python3"
  },
  "language_info": {
   "codemirror_mode": {
    "name": "ipython",
    "version": 3
   },
   "file_extension": ".py",
   "mimetype": "text/x-python",
   "name": "python",
   "nbconvert_exporter": "python",
   "pygments_lexer": "ipython3",
   "version": "3.9.13"
  }
 },
 "nbformat": 4,
 "nbformat_minor": 2
}
