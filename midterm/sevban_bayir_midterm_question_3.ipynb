{
 "cells": [
  {
   "cell_type": "code",
   "id": "initial_id",
   "metadata": {
    "collapsed": true,
    "ExecuteTime": {
     "end_time": "2024-11-22T07:54:34.787546Z",
     "start_time": "2024-11-22T07:54:34.782803Z"
    }
   },
   "source": [
    "from pathlib import Path\n",
    "text = Path('midterm question 3 Pride and Prejudice by Jane Austen.txt').read_text(encoding='utf-8')\n"
   ],
   "outputs": [],
   "execution_count": 13
  },
  {
   "metadata": {
    "ExecuteTime": {
     "end_time": "2024-11-22T07:54:38.849344Z",
     "start_time": "2024-11-22T07:54:34.791592Z"
    }
   },
   "cell_type": "code",
   "source": [
    "from textatistic import Textatistic\n",
    "readability = Textatistic(text)\n",
    "%precision 3\n",
    "readability.dict()"
   ],
   "id": "2202e8e576b674d",
   "outputs": [
    {
     "data": {
      "text/plain": [
       "{'char_count': 590981,\n",
       " 'word_count': 127971,\n",
       " 'sent_count': 7332,\n",
       " 'sybl_count': 170238,\n",
       " 'notdalechall_count': 24409,\n",
       " 'polysyblword_count': 9475,\n",
       " 'flesch_score': 76.577,\n",
       " 'fleschkincaid_score': 6.914,\n",
       " 'gunningfog_score': 9.943,\n",
       " 'smog_score': 9.623,\n",
       " 'dalechall_score': 7.514}"
      ]
     },
     "execution_count": 14,
     "metadata": {},
     "output_type": "execute_result"
    }
   ],
   "execution_count": 14
  },
  {
   "metadata": {
    "ExecuteTime": {
     "end_time": "2024-11-22T07:54:38.932298Z",
     "start_time": "2024-11-22T07:54:38.927940Z"
    }
   },
   "cell_type": "code",
   "source": [
    "#Find dalechall ratio in total words\n",
    "readability.notdalechall_count / readability.word_count\n",
    "\n",
    "# %19 of words in this text comprise from notdalechall words which means %19 of this text can not readable by 5th grade or below English people."
   ],
   "id": "bff845dcc481b71d",
   "outputs": [
    {
     "data": {
      "text/plain": [
       "0.191"
      ]
     },
     "execution_count": 15,
     "metadata": {},
     "output_type": "execute_result"
    }
   ],
   "execution_count": 15
  }
 ],
 "metadata": {
  "kernelspec": {
   "display_name": "Python 3",
   "language": "python",
   "name": "python3"
  },
  "language_info": {
   "codemirror_mode": {
    "name": "ipython",
    "version": 2
   },
   "file_extension": ".py",
   "mimetype": "text/x-python",
   "name": "python",
   "nbconvert_exporter": "python",
   "pygments_lexer": "ipython2",
   "version": "2.7.6"
  }
 },
 "nbformat": 4,
 "nbformat_minor": 5
}
