{
 "cells": [
  {
   "metadata": {
    "ExecuteTime": {
     "end_time": "2024-11-22T07:40:34.961304Z",
     "start_time": "2024-11-22T07:40:34.751940Z"
    }
   },
   "cell_type": "code",
   "source": [
    "from pathlib import Path\n",
    "from textblob import TextBlob"
   ],
   "id": "408d07203b604b92",
   "outputs": [],
   "execution_count": 1
  },
  {
   "metadata": {
    "ExecuteTime": {
     "end_time": "2024-11-22T07:42:15.732053Z",
     "start_time": "2024-11-22T07:42:15.725161Z"
    }
   },
   "cell_type": "code",
   "source": "blob = TextBlob(Path('midterm question 2 Edward The Second.txt').read_text(encoding='utf-8'))",
   "id": "21e633cdd16028f4",
   "outputs": [],
   "execution_count": 2
  },
  {
   "metadata": {
    "ExecuteTime": {
     "end_time": "2024-11-22T07:42:31.877505Z",
     "start_time": "2024-11-22T07:42:31.874349Z"
    }
   },
   "cell_type": "code",
   "source": "from nltk.corpus import stopwords\n",
   "id": "b860cf867ea1c74e",
   "outputs": [],
   "execution_count": 3
  },
  {
   "metadata": {
    "ExecuteTime": {
     "end_time": "2024-11-22T07:42:44.261822Z",
     "start_time": "2024-11-22T07:42:44.258013Z"
    }
   },
   "cell_type": "code",
   "source": "stop_words = stopwords.words('english')\n",
   "id": "1ec5e0b08f62956b",
   "outputs": [],
   "execution_count": 4
  },
  {
   "metadata": {
    "ExecuteTime": {
     "end_time": "2024-11-22T07:42:50.541399Z",
     "start_time": "2024-11-22T07:42:50.372038Z"
    }
   },
   "cell_type": "code",
   "source": "words = blob.word_counts.items()\n",
   "id": "bed3d46ae18302f",
   "outputs": [],
   "execution_count": 5
  },
  {
   "metadata": {
    "ExecuteTime": {
     "end_time": "2024-11-22T07:43:06.088815Z",
     "start_time": "2024-11-22T07:43:06.082221Z"
    }
   },
   "cell_type": "code",
   "source": "words = [item for item in words if item[0] not in stop_words]",
   "id": "b750bbffcd2582c1",
   "outputs": [],
   "execution_count": 6
  },
  {
   "metadata": {
    "ExecuteTime": {
     "end_time": "2024-11-22T07:43:22.028892Z",
     "start_time": "2024-11-22T07:43:22.026558Z"
    }
   },
   "cell_type": "code",
   "source": [
    "from operator import itemgetter\n",
    "sorted_items = sorted(words, key=itemgetter(1), reverse=True)"
   ],
   "id": "b845702a117d2d6e",
   "outputs": [],
   "execution_count": 9
  },
  {
   "metadata": {
    "ExecuteTime": {
     "end_time": "2024-11-22T07:58:06.954277Z",
     "start_time": "2024-11-22T07:58:06.949788Z"
    }
   },
   "cell_type": "code",
   "source": [
    "top20 = sorted_items[0:20]\n",
    "top20"
   ],
   "id": "d0c586b3626af7ba",
   "outputs": [
    {
     "data": {
      "text/plain": [
       "[('lord', 226),\n",
       " ('king', 223),\n",
       " ('edw', 208),\n",
       " ('k', 195),\n",
       " ('mor', 172),\n",
       " ('thou', 156),\n",
       " ('shall', 143),\n",
       " ('mortimer', 134),\n",
       " ('gaveston', 131),\n",
       " ('thy', 118),\n",
       " ('edward', 103),\n",
       " ('isab', 97),\n",
       " ('q', 96),\n",
       " ('thee', 87),\n",
       " ('let', 80),\n",
       " ('kent', 77),\n",
       " ('lan', 71),\n",
       " ('enter', 70),\n",
       " ('come', 68),\n",
       " ('us', 64)]"
      ]
     },
     "execution_count": 13,
     "metadata": {},
     "output_type": "execute_result"
    }
   ],
   "execution_count": 13
  },
  {
   "metadata": {
    "ExecuteTime": {
     "end_time": "2024-11-22T07:44:04.685878Z",
     "start_time": "2024-11-22T07:44:04.682788Z"
    }
   },
   "cell_type": "code",
   "source": [
    "import pandas as pd\n",
    "df = pd.DataFrame(top20, columns=['word', 'count'])\n"
   ],
   "id": "7a49dfbb14fbf546",
   "outputs": [],
   "execution_count": 11
  },
  {
   "metadata": {
    "ExecuteTime": {
     "end_time": "2024-11-22T07:44:11.280603Z",
     "start_time": "2024-11-22T07:44:11.117575Z"
    }
   },
   "cell_type": "code",
   "source": [
    "axes = df.plot.bar(x='word', y='count', legend=False)\n",
    "\n",
    "import matplotlib.pyplot as plt\n",
    "\n",
    "plt.gcf().tight_layout()"
   ],
   "id": "349f60466a737c9a",
   "outputs": [
    {
     "data": {
      "text/plain": [
       "<Figure size 640x480 with 1 Axes>"
      ],
      "image/png": "[encoded data removed]"
     },
     "metadata": {},
     "output_type": "display_data"
    }
   ],
   "execution_count": 12
  }
 ],
 "metadata": {
  "kernelspec": {
   "display_name": "Python 3",
   "language": "python",
   "name": "python3"
  },
  "language_info": {
   "codemirror_mode": {
    "name": "ipython",
    "version": 2
   },
   "file_extension": ".py",
   "mimetype": "text/x-python",
   "name": "python",
   "nbconvert_exporter": "python",
   "pygments_lexer": "ipython2",
   "version": "2.7.6"
  }
 },
 "nbformat": 4,
 "nbformat_minor": 5
}
